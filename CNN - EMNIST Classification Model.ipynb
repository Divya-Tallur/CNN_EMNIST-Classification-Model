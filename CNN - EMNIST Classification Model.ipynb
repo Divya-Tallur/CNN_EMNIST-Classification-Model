{
  "cells": [
    {
      "cell_type": "markdown",
      "metadata": {
        "id": "j_k6CvAlgjOA"
      },
      "source": [
        "# **Step 1: Indicating the imported packages/libraries**"
      ]
    },
    {
      "cell_type": "code",
      "execution_count": 2,
      "metadata": {
        "id": "mSau4vlXgjOB",
        "colab": {
          "base_uri": "https://localhost:8080/"
        },
        "outputId": "9e3d2212-ce5c-4a0d-d9de-d8a864b6bf6a"
      },
      "outputs": [
        {
          "output_type": "stream",
          "name": "stdout",
          "text": [
            "Currently using: cuda\n"
          ]
        }
      ],
      "source": [
        "# Importing all the libraries required for creating MLP and CNN\n",
        "import pandas as pd\n",
        "import random\n",
        "import time\n",
        "import numpy as np\n",
        "import matplotlib.pyplot as plt\n",
        "from sklearn.metrics import confusion_matrix, accuracy_score, precision_recall_fscore_support\n",
        "import torch\n",
        "import torch.nn as nn\n",
        "import torch.optim as optim\n",
        "from torch.utils.data import DataLoader, Dataset\n",
        "import torchvision\n",
        "from torchvision import datasets\n",
        "from torchvision import transforms\n",
        "from torchvision.transforms import Compose, ToTensor, Resize, RandomRotation, RandomHorizontalFlip,  RandomVerticalFlip, ToPILImage\n",
        "import torchvision.transforms.functional as TF\n",
        "# Checking if using GPU or the CPU\n",
        "device = torch.device('cuda' if torch.cuda.is_available() else 'cpu')\n",
        "print(\"Currently using:\", device)"
      ]
    },
    {
      "cell_type": "code",
      "source": [
        "\"\"\"\n",
        "    - Creating EMNISTDataset class for loading the data set and converting the CSV to tensors\n",
        "    - Basic functions for data set visualization\n",
        "\"\"\"\n",
        "\n",
        "class EMNISTDataset(Dataset):\n",
        "\n",
        "\n",
        "    def __init__(self, image_data_path, mapping_data_path, transform = None, target_transform = None):\n",
        "\n",
        "        self.image_data_df = pd.read_csv(image_data_path,  header = None)\n",
        "        #self.image_data_df[0] = self.image_data_df[0].astype(int)\n",
        "        #self.test_df = pd.read_csv(test_image_data_path)\n",
        "        self.label_map = pd.read_csv(mapping_data_path, delimiter = '\\t')\n",
        "        self.transform = self.create_transform()\n",
        "\n",
        "        label_map = pd.read_csv(mapping_data_path,\n",
        "                        delimiter = ' ',\n",
        "                        index_col=0,\n",
        "                        header=None\n",
        "                       )\n",
        "        label_map=label_map.reset_index(drop=True)\n",
        "        label_map.columns=[\"col\"]\n",
        "            #Initialising an empty dictionary\n",
        "        label_dictionary = {}\n",
        "\n",
        "        #Running a loop for ASCII equivalent to character conversion\n",
        "        for index, label in enumerate(label_map.col):\n",
        "            label_dictionary[index] = chr(label)\n",
        "        self.label_dictionary = label_dictionary\n",
        "\n",
        "    def __getitem__(self, idx):\n",
        "\n",
        "        sample_row = self.image_data_df.iloc[idx]\n",
        "        #print(sample_row)\n",
        "        sample_label = sample_row[0]\n",
        "        #print(sample_label)\n",
        "        W = 28\n",
        "        H = 28\n",
        "        sample_img = sample_row[1:].values.reshape(W, H).astype(np.float32)\n",
        "        #print(sample_img)\n",
        "        sample_label = sample_label\n",
        "        sample_img = self.transform(sample_img)\n",
        "        ## the data needs to be loaded here only and that too just for\n",
        "        ## the idx. The entire data is never loaded into memory\n",
        "        ## this is lazy loading concept of Datasets class\n",
        "        #x_train = np.apply_along_axis(flip_and_rotate, 1, x_train.values)\n",
        "        #x_train.shape\n",
        "\n",
        "        return sample_img, sample_label\n",
        "\n",
        "    def __len__(self):\n",
        "        return self.image_data_df.shape[0]\n",
        "\n",
        "\n",
        "    def create_transform(self):\n",
        "\n",
        "        transforms = CustomTransform(90.0)\n",
        "        return transforms\n",
        "\n",
        "class CustomTransform:\n",
        "    \"\"\"Rotate by one of the given angles.\"\"\"\n",
        "\n",
        "    def __init__(self, angle):\n",
        "        self.angle = angle\n",
        "\n",
        "    def __call__(self, image):\n",
        "        image = TF.rotate(TF.hflip(TF.to_tensor(image)), self.angle)\n",
        "        return image"
      ],
      "metadata": {
        "id": "n6CVQKz3qED9"
      },
      "execution_count": 3,
      "outputs": []
    },
    {
      "cell_type": "markdown",
      "source": [
        "# **Step 2/3: Loading the Data set using Pandas and splitting them in Test and Train**"
      ],
      "metadata": {
        "id": "HZx8fV7c9XIk"
      }
    },
    {
      "cell_type": "code",
      "source": [
        "# Unable to lad data directly from torch hence I uploaded the data sets to Google colab\n",
        "# and then using them through Pandas Data fram\n",
        "\n",
        "# Reading the training and testing data using Pandas\n",
        "training_data_path = '/content/emnist-balanced-train.csv'\n",
        "test_data_path = '/content/emnist-balanced-test.csv'\n",
        "mapping_data_path = \"/content/emnist-balanced-mapping.txt\"\n",
        "label_map = pd.read_csv(mapping_data_path,delimiter = ' ',index_col=0,header=None)\n",
        "emnist_train_total = EMNISTDataset(image_data_path = training_data_path, mapping_data_path = mapping_data_path, transform = None, target_transform = None)\n",
        "emnist_test = EMNISTDataset(image_data_path = test_data_path, mapping_data_path = mapping_data_path, transform = None, target_transform = None)\n",
        "\n",
        "\n",
        "# Split the training dataset into training and validation datasets\n",
        "train_size = int(0.8 * len(emnist_train_total))\n",
        "val_size = len(emnist_train_total) - train_size\n",
        "emnist_train, emnist_val = torch.utils.data.random_split(emnist_train_total, [train_size, val_size])\n",
        "\n",
        "# Create the dataloaders for the training, validation, and testing datasets\n",
        "train_loader = DataLoader(emnist_train, batch_size=128, shuffle=True)\n",
        "test_loader = DataLoader(emnist_test, batch_size=128, shuffle=True)\n",
        "val_loader = DataLoader( emnist_val, batch_size=128, shuffle=False)\n",
        "\n",
        "\n"
      ],
      "metadata": {
        "id": "NNUf1fPsqEKl"
      },
      "execution_count": 4,
      "outputs": []
    },
    {
      "cell_type": "markdown",
      "source": [
        "# **Step 4: Visualizing and Understanding the Dataset**"
      ],
      "metadata": {
        "id": "6VKxysmW9gsz"
      }
    },
    {
      "cell_type": "markdown",
      "source": [
        "Step 4.1: Print out the count of Testing/Training samples"
      ],
      "metadata": {
        "id": "8JIB3a51-fwJ"
      }
    },
    {
      "cell_type": "code",
      "source": [
        "# Print out the number of training and testing samples\n",
        "print(f'Number of training samples (including Validation data): {len(emnist_train_total)}')\n",
        "print(f'Number of testing samples: {len(emnist_test)}')"
      ],
      "metadata": {
        "colab": {
          "base_uri": "https://localhost:8080/"
        },
        "id": "Kzkr2Gyh-oEe",
        "outputId": "92c9bcd7-859a-49be-a8a8-581c12817f72"
      },
      "execution_count": 5,
      "outputs": [
        {
          "output_type": "stream",
          "name": "stdout",
          "text": [
            "Number of training samples (including Validation data): 112800\n",
            "Number of testing samples: 18800\n"
          ]
        }
      ]
    },
    {
      "cell_type": "markdown",
      "source": [
        "Step 4.2: Visualize some samples of Dataset"
      ],
      "metadata": {
        "id": "gWLSiCFp-z9s"
      }
    },
    {
      "cell_type": "code",
      "source": [
        "# Defining a function to get images from the dataset\n",
        "def plot(images, labels):\n",
        "    fig, axs = plt.subplots(4, 4, figsize=(5, 5), gridspec_kw={'hspace': 0.5, 'wspace': 0.5})\n",
        "    axs = axs.flatten()\n",
        "    for i in range(len(axs)):\n",
        "        axs[i].imshow(images[i].reshape(28, 28), cmap='gray')\n",
        "        axs[i].set_title(labels[i])\n",
        "        axs[i].axis('off')\n",
        "\n",
        "# Plot sample images from the training dataset\n",
        "images, labels = next(iter(train_loader))\n",
        "plot(images, labels)"
      ],
      "metadata": {
        "id": "gnppbqvZqENV",
        "colab": {
          "base_uri": "https://localhost:8080/",
          "height": 444
        },
        "outputId": "77aebcb0-e52d-47c8-9b7a-586a81e8579b"
      },
      "execution_count": 6,
      "outputs": [
        {
          "output_type": "display_data",
          "data": {
            "text/plain": [
              "<Figure size 500x500 with 16 Axes>"
            ],
            "image/png": "[encoded data removed]"
          },
          "metadata": {}
        }
      ]
    },
    {
      "cell_type": "markdown",
      "metadata": {
        "id": "ltuB3dbbgjOE"
      },
      "source": [
        "# **# Step 5: Building MLP and CNN**"
      ]
    },
    {
      "cell_type": "markdown",
      "metadata": {
        "id": "3OOSRMEtgjOE"
      },
      "source": [
        "Defining the MLP model and hyperparameters"
      ]
    },
    {
      "cell_type": "code",
      "execution_count": 7,
      "metadata": {
        "id": "iNxluwvKgjOE"
      },
      "outputs": [],
      "source": [
        "\"\"\"\n",
        "    - Defining class for MLP\n",
        "    - Used checks for 3 activation functions ReLu, Leaky ReLu, Elu\n",
        "    - Input Params: Sizes of Input, Output and Hidden layers, Count of hidden layers and Act function\n",
        "\"\"\"\n",
        "class MLP(nn.Module):\n",
        "    def __init__(self, input_size, output_size, hidden_layers_count, hidden_size, activation_function):\n",
        "        super(MLP, self).__init__()\n",
        "        layers = []\n",
        "        for i in range(hidden_layers_count):\n",
        "            if i == 0:\n",
        "                layers.append(nn.Linear(input_size, hidden_size))\n",
        "            else:\n",
        "                layers.append(nn.Linear(hidden_size, hidden_size))\n",
        "            # Checks if activation function is  Relu\n",
        "            if activation_function == \"relu\":\n",
        "                layers.append(nn.ReLU())\n",
        "            # Checks if activation function is  Leaky Relu\n",
        "            elif activation_function == \"leaky_relu\":\n",
        "                layers.append(nn.LeakyReLU())\n",
        "            # Checks if activation function is  Elu\n",
        "            elif activation_function == \"elu\":\n",
        "                layers.append(nn.ELU())\n",
        "            else:\n",
        "                raise ValueError(\"Invalid activation function.\")\n",
        "            # Dropout to overcome over fitting\n",
        "            layers.append(nn.Dropout(p=0.2))\n",
        "        layers.append(nn.Linear(hidden_size, output_size))\n",
        "        self.model = nn.Sequential(*layers)\n",
        "    # A feed forward function for output classification\n",
        "    def forward(self, x):\n",
        "        x = x.view(x.shape[0], -1)\n",
        "        return self.model(x)"
      ]
    },
    {
      "cell_type": "markdown",
      "metadata": {
        "id": "DPNySm2igjOE"
      },
      "source": [
        "Train the MLP model and choose the best hyperparameters"
      ]
    },
    {
      "cell_type": "code",
      "execution_count": 8,
      "metadata": {
        "id": "hMh9AQaQgjOE"
      },
      "outputs": [],
      "source": [
        "\"\"\"\n",
        "    Train the model on the training dataset and evaluate its performance.\n",
        "\n",
        "    Args:\n",
        "        model (nn.Module): The model to be trained\n",
        "        train_loader (DataLoader): The dataloader for the training data\n",
        "        criterion: The loss function\n",
        "        optimizer: The optimizer for the model\n",
        "        scheduler: The learning rate scheduler\n",
        "        num_epochs (int): The number of epochs to train the model\n",
        "\n",
        "    Returns:\n",
        "        model, losses, train_accs and test_accs\n",
        "\"\"\"\n",
        "\n",
        "\n",
        "def train_MLP(model, train_loader, test_loader, optimizer, criterion, epochs):\n",
        "    best_loss = np.inf\n",
        "    best_acc = 0\n",
        "    losses = []\n",
        "    train_accs = []\n",
        "    test_accs = []\n",
        "    # Running each Epoch\n",
        "    for epoch in range(epochs):\n",
        "        running_loss = 0\n",
        "        correct = 0\n",
        "        total = 0\n",
        "        model.train()\n",
        "        for i, (inputs, labels) in enumerate(train_loader):\n",
        "            inputs, labels = inputs.to(device), labels.to(device)\n",
        "            optimizer.zero_grad()\n",
        "            outputs = model(inputs)\n",
        "            loss = criterion(outputs, labels)\n",
        "            loss.backward()\n",
        "            optimizer.step()\n",
        "            running_loss += loss.item()\n",
        "            _, predicted = torch.max(outputs.data, 1)\n",
        "            total += labels.size(0)\n",
        "            correct += (predicted == labels).sum().item()\n",
        "\n",
        "        train_loss = running_loss / len(train_loader)\n",
        "        train_acc = correct / total\n",
        "        losses.append(train_loss)\n",
        "        train_accs.append(train_acc)\n",
        "\n",
        "        test_acc, _ = evaluate_MLP(model, test_loader)\n",
        "        test_accs.append(test_acc)\n",
        "\n",
        "        if test_acc > best_acc:\n",
        "            best_acc = test_acc\n",
        "            best_loss = train_loss\n",
        "            best_epoch = epoch\n",
        "    #Getting the Best Accuracy and losses\n",
        "    print('Best accuracy: {:.4f}, Best loss: {:.4f}, Best epoch: {}'.format(\n",
        "        best_acc, best_loss, best_epoch))\n",
        "    return model, losses, train_accs, test_accs"
      ]
    },
    {
      "cell_type": "markdown",
      "metadata": {
        "id": "XSZ5gf_EgjOF"
      },
      "source": [
        "Evaluate the MLP model on the testing set"
      ]
    },
    {
      "cell_type": "code",
      "execution_count": 9,
      "metadata": {
        "id": "uSnq9UBmgjOF"
      },
      "outputs": [],
      "source": [
        "\"\"\"\n",
        "    - Model evaluation for MLP\n",
        "    - Performance metrics : Accuracy, Precision, Recall, F1-score\n",
        "\"\"\"\n",
        "\n",
        "def evaluate_MLP(model, test_loader):\n",
        "    model.eval()\n",
        "    correct = 0\n",
        "    total = 0\n",
        "    y_true = []\n",
        "    y_pred = []\n",
        "    with torch.no_grad():\n",
        "        for inputs, labels in test_loader:\n",
        "            inputs, labels = inputs.to(device), labels.to(device)\n",
        "            outputs = model(inputs)\n",
        "            _, predicted = torch.max(outputs.data, 1)\n",
        "            total += labels.size(0)\n",
        "            correct += (predicted == labels).sum().item()\n",
        "            y_true.extend(labels.cpu().numpy())\n",
        "            y_pred.extend(predicted.cpu().numpy())\n",
        "    acc = accuracy_score(y_true, y_pred)\n",
        "    precision, recall, f1_score, _ = precision_recall_fscore_support(\n",
        "        y_true, y_pred, average='weighted')\n",
        "    #Print Performance Metrics\n",
        "    print('Accuracy: {:.4f}'.format(acc))\n",
        "    print('Precision: {:.4f}'.format(precision))\n",
        "    print('Recall: {:.4f}'.format(recall))\n",
        "    print('F1-score: {:.4f}'.format(f1_score))\n",
        "    cm = confusion_matrix(y_true, y_pred)\n",
        "    return acc, cm"
      ]
    },
    {
      "cell_type": "markdown",
      "metadata": {
        "id": "fYK3V2UPgjOF"
      },
      "source": [
        "Define the CNN model and hyperparameters"
      ]
    },
    {
      "cell_type": "code",
      "source": [
        "\"\"\"\n",
        "    - Defining class for CNN\n",
        "    - Convoluting and Maxpooling before input to the network\n",
        "    - Activation function considered Relu\n",
        "\"\"\"\n",
        "class CNN(nn.Module):\n",
        "    def __init__(self,output_size):\n",
        "        super().__init__()\n",
        "        self.conv1 = nn.Sequential(nn.Conv2d(1, 32, kernel_size=3, padding=1),\n",
        "                                  nn.BatchNorm2d(32),\n",
        "                                  nn.ReLU(inplace=True)) #32*28*28\n",
        "        self.conv2 = nn.Sequential(nn.Conv2d(32, 64, kernel_size=3, padding=1),\n",
        "                                  nn.BatchNorm2d(64),\n",
        "                                  nn.ReLU(inplace=True),\n",
        "                                  nn.MaxPool2d(2)) #64*14*14\n",
        "        self.res1 = nn.Sequential(nn.Conv2d(64, 64, kernel_size=3, padding=1),\n",
        "                                  nn.ReLU(inplace=True),\n",
        "                                  nn.Conv2d(64, 64, kernel_size=3, padding=1),\n",
        "                                  nn.ReLU(inplace=True)) #64*14*14\n",
        "        self.conv3 = nn.Sequential(nn.Conv2d(64, 128, kernel_size=3, padding=1),\n",
        "                                  nn.BatchNorm2d(128),\n",
        "                                  nn.ReLU(inplace=True)) #128*14*14\n",
        "        self.conv4 = nn.Sequential(nn.Conv2d(128, 256, kernel_size=3, padding=1),\n",
        "                                  nn.BatchNorm2d(256),\n",
        "                                  nn.ReLU(inplace=True),\n",
        "                                  nn.MaxPool2d(2)) #256*7*7\n",
        "        self.res2 = nn.Sequential(nn.Conv2d(256, 256, kernel_size=3, padding=1),\n",
        "                                  nn.ReLU(inplace=True),\n",
        "                                  nn.Conv2d(256, 256, kernel_size=3, padding=1),\n",
        "                                  nn.ReLU(inplace=True)) #256*7*7\n",
        "        self.classifier = nn.Sequential(nn.Flatten(),\n",
        "                          nn.Linear(256*7*7, 1024),\n",
        "                          nn.ReLU(),\n",
        "                          nn.Linear(1024, 256),\n",
        "                          nn.ReLU(),\n",
        "                          nn.Linear(256, output_size)\n",
        "        )\n",
        "\n",
        "    def forward(self, xb):\n",
        "        out = self.conv1(xb)\n",
        "        out = self.conv2(out)\n",
        "        out = self.res1(out) + out\n",
        "        out = self.conv3(out)\n",
        "        out = self.conv4(out)\n",
        "        out = self.res2(out) + out\n",
        "        out = self.classifier(out)\n",
        "        return out"
      ],
      "metadata": {
        "id": "dvhhjQiiBQjf"
      },
      "execution_count": 10,
      "outputs": []
    },
    {
      "cell_type": "markdown",
      "metadata": {
        "id": "Ifx-lrsWgjOG"
      },
      "source": [
        "Train the CNN model and choose the best hyperparameters"
      ]
    },
    {
      "cell_type": "code",
      "execution_count": 11,
      "metadata": {
        "id": "0_LTakNBgjOG"
      },
      "outputs": [],
      "source": [
        "def train_CNN(model, train_loader, test_loader, optimizer, criterion, epochs):\n",
        "    best_loss = np.inf\n",
        "    best_acc = 0\n",
        "    losses = []\n",
        "    train_accs = []\n",
        "    test_accs = []\n",
        "    for epoch in range(epochs):\n",
        "        running_loss = 0\n",
        "        correct = 0\n",
        "        total = 0\n",
        "        model.train()\n",
        "        for i, (inputs, labels) in enumerate(train_loader):\n",
        "            inputs, labels = inputs.to(device), labels.to(device)\n",
        "            optimizer.zero_grad()\n",
        "            outputs = model(inputs)\n",
        "            loss = criterion(outputs, labels)\n",
        "            loss.backward()\n",
        "            optimizer.step()\n",
        "            running_loss += loss.item()\n",
        "            _, predicted = torch.max(outputs.data, 1)\n",
        "            total += labels.size(0)\n",
        "            correct += (predicted == labels).sum().item()\n",
        "\n",
        "        train_loss = running_loss / len(train_loader)\n",
        "        train_acc = correct / total\n",
        "        losses.append(train_loss)\n",
        "        train_accs.append(train_acc)\n",
        "\n",
        "        test_acc, _ = evaluate_CNN(model, test_loader)\n",
        "        test_accs.append(test_acc)\n",
        "\n",
        "        if test_acc > best_acc:\n",
        "            best_acc = test_acc\n",
        "            best_loss = train_loss\n",
        "            best_model = model.state_dict()\n",
        "\n",
        "        print('Epoch [{}/{}], Train Loss: {:.4f}, Train Acc: {:.4f}, Test Acc: {:.4f}'.format(\n",
        "            epoch+1, epochs, train_loss, train_acc, test_acc))\n",
        "\n",
        "    model.load_state_dict(best_model)\n",
        "    return best_acc, best_loss, losses, train_accs, test_accs\n"
      ]
    },
    {
      "cell_type": "markdown",
      "metadata": {
        "id": "MQgeRuFBgjOG"
      },
      "source": [
        "Evaluate the CNN model on the testing set"
      ]
    },
    {
      "cell_type": "code",
      "execution_count": 12,
      "metadata": {
        "id": "wvbjZhqTgjOG"
      },
      "outputs": [],
      "source": [
        "def evaluate_CNN(model, test_loader):\n",
        "    model.eval()\n",
        "    correct = 0\n",
        "    total = 0\n",
        "    y_true = []\n",
        "    y_pred = []\n",
        "    with torch.no_grad():\n",
        "        for inputs, labels in test_loader:\n",
        "            inputs, labels = inputs.to(device), labels.to(device)\n",
        "            outputs = model(inputs)\n",
        "            _, predicted = torch.max(outputs.data, 1)\n",
        "            total += labels.size(0)\n",
        "            correct += (predicted == labels).sum().item()\n",
        "            y_true.extend(labels.cpu().numpy())\n",
        "            y_pred.extend(predicted.cpu().numpy())\n",
        "    acc = accuracy_score(y_true, y_pred)\n",
        "    precision, recall, f1_score, _ = precision_recall_fscore_support(\n",
        "        y_true, y_pred, average='weighted')\n",
        "    # Print performance metrics\n",
        "    print('Accuracy: {:.4f}'.format(acc))\n",
        "    print('Precision: {:.4f}'.format(precision))\n",
        "    print('Recall: {:.4f}'.format(recall))\n",
        "    print('F1-score: {:.4f}'.format(f1_score))\n",
        "    cm = confusion_matrix(y_true, y_pred)\n",
        "    return acc, cm"
      ]
    },
    {
      "cell_type": "code",
      "source": [
        "# Train MLP model\n",
        "input_size = 28*28\n",
        "output_size = len(label_map)\n",
        "hidden_layers = 3\n",
        "hidden_size = 256\n",
        "activation = \"relu\"\n",
        "\n",
        "mlp_model = MLP(input_size, output_size,\n",
        "                hidden_layers, hidden_size, activation)\n",
        "mlp_model.to(device)\n",
        "\n",
        "criterion = nn.CrossEntropyLoss()\n",
        "optimizer = optim.Adam(mlp_model.parameters(), lr=0.001)\n",
        "epochs = 10\n",
        "\n",
        "start_time = time.time()\n",
        "mlp_model, mlp_losses, mlp_train_accs, mlp_test_accs = train_MLP(\n",
        "    mlp_model, train_loader, test_loader, optimizer, criterion, epochs)\n",
        "mlp_training_time = time.time() - start_time\n"
      ],
      "metadata": {
        "colab": {
          "base_uri": "https://localhost:8080/"
        },
        "id": "mcnTLLrvwgXz",
        "outputId": "b44790bd-1cec-43e2-90d2-19f7b18ca81b"
      },
      "execution_count": 13,
      "outputs": [
        {
          "output_type": "stream",
          "name": "stdout",
          "text": [
            "Accuracy: 0.7227\n",
            "Precision: 0.7294\n",
            "Recall: 0.7227\n",
            "F1-score: 0.7133\n",
            "Accuracy: 0.7526\n",
            "Precision: 0.7597\n",
            "Recall: 0.7526\n",
            "F1-score: 0.7459\n",
            "Accuracy: 0.7646\n",
            "Precision: 0.7764\n",
            "Recall: 0.7646\n",
            "F1-score: 0.7600\n",
            "Accuracy: 0.7734\n",
            "Precision: 0.7816\n",
            "Recall: 0.7734\n",
            "F1-score: 0.7660\n",
            "Accuracy: 0.7832\n",
            "Precision: 0.7855\n",
            "Recall: 0.7832\n",
            "F1-score: 0.7805\n",
            "Accuracy: 0.7857\n",
            "Precision: 0.7966\n",
            "Recall: 0.7857\n",
            "F1-score: 0.7803\n",
            "Accuracy: 0.7852\n",
            "Precision: 0.7913\n",
            "Recall: 0.7852\n",
            "F1-score: 0.7797\n",
            "Accuracy: 0.7812\n",
            "Precision: 0.7886\n",
            "Recall: 0.7812\n",
            "F1-score: 0.7717\n",
            "Accuracy: 0.7954\n",
            "Precision: 0.8010\n",
            "Recall: 0.7954\n",
            "F1-score: 0.7918\n",
            "Accuracy: 0.7807\n",
            "Precision: 0.7867\n",
            "Recall: 0.7807\n",
            "F1-score: 0.7743\n",
            "Best accuracy: 0.7954, Best loss: 0.8301, Best epoch: 8\n"
          ]
        }
      ]
    },
    {
      "cell_type": "markdown",
      "metadata": {
        "id": "UURLwizygjOH"
      },
      "source": [
        "Step 5.2 - After obtaining the best version of the models"
      ]
    },
    {
      "cell_type": "code",
      "execution_count": null,
      "metadata": {
        "id": "hUEHfB6sgjOH"
      },
      "outputs": [],
      "source": [
        "# Train CNN model\n",
        "input_channels = 1\n",
        "output_size = len(label_map)\n",
        "hidden_layers = 3\n",
        "hidden_channels = 32\n",
        "kernel_size = 3\n",
        "pool_size = 2\n",
        "activation = \"relu\"\n",
        "\n",
        "cnn_model = CNN(output_size)\n",
        "cnn_model.to(device)\n",
        "\n",
        "# Entropy Criterian and Adam Optimizer\n",
        "criterion = nn.CrossEntropyLoss()\n",
        "optimizer = optim.Adam(cnn_model.parameters(), lr=0.001)\n",
        "epochs = 10\n",
        "\n",
        "start_time = time.time()\n",
        "cnn_best_acc, cnn_best_loss, cnn_losses, cnn_train_accs, cnn_test_accs = train_CNN(\n",
        "    cnn_model, train_loader, test_loader, optimizer, criterion, epochs)\n",
        "cnn_training_time = time.time() - start_time"
      ]
    },
    {
      "cell_type": "code",
      "execution_count": null,
      "metadata": {
        "colab": {
          "base_uri": "https://localhost:8080/",
          "height": 472
        },
        "id": "NiHJ8famgjOH",
        "outputId": "6cf747d1-6121-4483-80f2-bafe78dd3900"
      },
      "outputs": [
        {
          "output_type": "display_data",
          "data": {
            "text/plain": [
              "<Figure size 640x480 with 1 Axes>"
            ],
            "image/png": "[encoded data removed]"
          },
          "metadata": {}
        }
      ],
      "source": [
        "# Step 5.2.A Plot loss function graph\n",
        "plt.plot(range(1, epochs+1), mlp_losses, label='MLP')\n",
        "plt.plot(range(1, epochs+1), cnn_losses, label='CNN')\n",
        "plt.title('Loss Function')\n",
        "plt.xlabel('Epochs')\n",
        "plt.ylabel('Loss')\n",
        "plt.legend()\n",
        "plt.show()"
      ]
    },
    {
      "cell_type": "code",
      "execution_count": null,
      "metadata": {
        "colab": {
          "base_uri": "https://localhost:8080/",
          "height": 472
        },
        "id": "85_FkxrWgjOI",
        "outputId": "755160dd-1862-4b61-f450-f13f43408c2d"
      },
      "outputs": [
        {
          "output_type": "display_data",
          "data": {
            "text/plain": [
              "<Figure size 640x480 with 1 Axes>"
            ],
            "image/png": "[encoded data removed]"
          },
          "metadata": {}
        }
      ],
      "source": [
        "# Step 5.2.B Plot accuracy graph\n",
        "plt.plot(range(1, epochs+1), mlp_train_accs, label='MLP Training')\n",
        "plt.plot(range(1, epochs+1), cnn_train_accs, label='CNN Training')\n",
        "plt.plot(range(1, epochs+1), mlp_test_accs, label='MLP Testing')\n",
        "plt.plot(range(1, epochs+1), cnn_test_accs, label='CNN Testing')\n",
        "plt.title('Accuracy')\n",
        "plt.xlabel('Epochs')\n",
        "plt.ylabel('Accuracy')\n",
        "plt.legend()\n",
        "plt.show()"
      ]
    },
    {
      "cell_type": "code",
      "execution_count": null,
      "metadata": {
        "colab": {
          "base_uri": "https://localhost:8080/"
        },
        "id": "wVrCo96kgjOI",
        "outputId": "caf08279-6456-45d0-cb76-b3327cc7e780"
      },
      "outputs": [
        {
          "output_type": "stream",
          "name": "stdout",
          "text": [
            "MLP training time: 630.70 seconds\n",
            "CNN training time: 921.78 seconds\n"
          ]
        }
      ],
      "source": [
        "# Step 5.2.C Print training time\n",
        "\n",
        "print(\"MLP training time: {:.2f} seconds\".format(mlp_training_time))\n",
        "print(\"CNN training time: {:.2f} seconds\".format(cnn_training_time))"
      ]
    },
    {
      "cell_type": "markdown",
      "metadata": {
        "id": "uyL_ZXENgjOI"
      },
      "source": [
        "Step 6.1 - Compare the performance of the MLP and CNN models"
      ]
    },
    {
      "cell_type": "code",
      "execution_count": null,
      "metadata": {
        "colab": {
          "base_uri": "https://localhost:8080/",
          "height": 211
        },
        "id": "596ZMgB1gjOI",
        "outputId": "70f178dc-59bf-4c22-c084-ea746eca4dc8"
      },
      "outputs": [
        {
          "output_type": "error",
          "ename": "TypeError",
          "evalue": "MLP.__init__() got an unexpected keyword argument 'hidden_layers'",
          "traceback": [
            "\u001b[0;31m---------------------------------------------------------------------------\u001b[0m",
            "\u001b[0;31mTypeError\u001b[0m                                 Traceback (most recent call last)",
            "\u001b[0;32m<ipython-input-18-f88db18076f3>\u001b[0m in \u001b[0;36m<cell line: 3>\u001b[0;34m()\u001b[0m\n\u001b[1;32m      1\u001b[0m \u001b[0;31m# Initialize the MLP model\u001b[0m\u001b[0;34m\u001b[0m\u001b[0;34m\u001b[0m\u001b[0m\n\u001b[1;32m      2\u001b[0m \u001b[0;34m\u001b[0m\u001b[0m\n\u001b[0;32m----> 3\u001b[0;31m mlp_model = MLP(input_size=28*28, output_size=len(label_map),\n\u001b[0m\u001b[1;32m      4\u001b[0m                 hidden_layers=2, hidden_size=128, activation=\"relu\").to(device)\n\u001b[1;32m      5\u001b[0m \u001b[0;34m\u001b[0m\u001b[0m\n",
            "\u001b[0;31mTypeError\u001b[0m: MLP.__init__() got an unexpected keyword argument 'hidden_layers'"
          ]
        }
      ],
      "source": [
        "'''# Initialize the MLP model\n",
        "\n",
        "mlp_model = MLP(input_size=28*28, output_size=len(label_map),\n",
        "                hidden_layers=2, hidden_size=128, activation=\"relu\").to(device)\n",
        "\n",
        "# Define the loss function and optimizer for the MLP model\n",
        "\n",
        "mlp_criterion = nn.CrossEntropyLoss()\n",
        "mlp_optimizer = optim.Adam(mlp_model.parameters(), lr=0.001)\n",
        "\n",
        "# Train the MLP model\n",
        "\n",
        "mlp_model, mlp_losses, mlp_train_accs, mlp_test_accs = train_MLP(\n",
        "    mlp_model, train_loader, test_loader, mlp_optimizer, mlp_criterion, epochs=10)'''"
      ]
    },
    {
      "cell_type": "code",
      "execution_count": null,
      "metadata": {
        "colab": {
          "base_uri": "https://localhost:8080/"
        },
        "id": "3hDgUUlagjOI",
        "outputId": "8bdf3ff1-3ce1-4809-cdc4-6fb849f7443d"
      },
      "outputs": [
        {
          "output_type": "stream",
          "name": "stdout",
          "text": [
            "Accuracy: 0.8522\n",
            "Precision: 0.8574\n",
            "Recall: 0.8522\n",
            "F1-score: 0.8524\n",
            "Epoch [1/10], Train Loss: 0.7388, Train Acc: 0.7720, Test Acc: 0.8522\n",
            "Accuracy: 0.8588\n",
            "Precision: 0.8680\n",
            "Recall: 0.8588\n",
            "F1-score: 0.8562\n",
            "Epoch [2/10], Train Loss: 0.3703, Train Acc: 0.8664, Test Acc: 0.8588\n",
            "Accuracy: 0.8599\n",
            "Precision: 0.8667\n",
            "Recall: 0.8599\n",
            "F1-score: 0.8567\n",
            "Epoch [3/10], Train Loss: 0.3204, Train Acc: 0.8818, Test Acc: 0.8599\n",
            "Accuracy: 0.8798\n",
            "Precision: 0.8841\n",
            "Recall: 0.8798\n",
            "F1-score: 0.8781\n",
            "Epoch [4/10], Train Loss: 0.2927, Train Acc: 0.8907, Test Acc: 0.8798\n",
            "Accuracy: 0.8766\n",
            "Precision: 0.8823\n",
            "Recall: 0.8766\n",
            "F1-score: 0.8746\n",
            "Epoch [5/10], Train Loss: 0.2727, Train Acc: 0.8956, Test Acc: 0.8766\n",
            "Accuracy: 0.8780\n",
            "Precision: 0.8862\n",
            "Recall: 0.8780\n",
            "F1-score: 0.8768\n",
            "Epoch [6/10], Train Loss: 0.2519, Train Acc: 0.9028, Test Acc: 0.8780\n",
            "Accuracy: 0.8852\n",
            "Precision: 0.8873\n",
            "Recall: 0.8852\n",
            "F1-score: 0.8841\n",
            "Epoch [7/10], Train Loss: 0.2369, Train Acc: 0.9071, Test Acc: 0.8852\n",
            "Accuracy: 0.8857\n",
            "Precision: 0.8884\n",
            "Recall: 0.8857\n",
            "F1-score: 0.8850\n",
            "Epoch [8/10], Train Loss: 0.2191, Train Acc: 0.9126, Test Acc: 0.8857\n",
            "Accuracy: 0.8847\n",
            "Precision: 0.8856\n",
            "Recall: 0.8847\n",
            "F1-score: 0.8837\n",
            "Epoch [9/10], Train Loss: 0.2060, Train Acc: 0.9171, Test Acc: 0.8847\n",
            "Accuracy: 0.8879\n",
            "Precision: 0.8912\n",
            "Recall: 0.8879\n",
            "F1-score: 0.8867\n",
            "Epoch [10/10], Train Loss: 0.1933, Train Acc: 0.9211, Test Acc: 0.8879\n"
          ]
        }
      ],
      "source": [
        "# Initialize the CNN model\n",
        "\n",
        "cnn_model = CNN(output_size=len(label_map)).to(device)\n",
        "\n",
        "# Define the loss function and optimizer for the CNN model\n",
        "\n",
        "cnn_criterion = nn.CrossEntropyLoss()\n",
        "cnn_optimizer = optim.Adam(cnn_model.parameters(), lr=0.001)\n",
        "\n",
        "# Train the CNN model\n",
        "\n",
        "cnn_acc, cnn_loss, cnn_losses, cnn_train_accs, cnn_test_accs = train_CNN(\n",
        "    cnn_model, train_loader, test_loader, cnn_optimizer, cnn_criterion, epochs=10)\n"
      ]
    },
    {
      "cell_type": "markdown",
      "metadata": {
        "id": "gPSZRpatgjOJ"
      },
      "source": [
        "Step 6.2 - Print the prediction of the top six samples in the testing dataset"
      ]
    },
    {
      "cell_type": "code",
      "execution_count": null,
      "metadata": {
        "colab": {
          "base_uri": "https://localhost:8080/",
          "height": 211
        },
        "id": "AgnOQZwwgjOJ",
        "outputId": "b675b4c4-00fa-4ecc-8e1a-95b1a014c4f8"
      },
      "outputs": [
        {
          "output_type": "error",
          "ename": "ValueError",
          "evalue": "not enough values to unpack (expected 2, got 1)",
          "traceback": [
            "\u001b[0;31m---------------------------------------------------------------------------\u001b[0m",
            "\u001b[0;31mValueError\u001b[0m                                Traceback (most recent call last)",
            "\u001b[0;32m<ipython-input-25-4a75e4e23032>\u001b[0m in \u001b[0;36m<cell line: 22>\u001b[0;34m()\u001b[0m\n\u001b[1;32m     20\u001b[0m \u001b[0;34m\u001b[0m\u001b[0m\n\u001b[1;32m     21\u001b[0m \u001b[0mcnn_preds\u001b[0m \u001b[0;34m=\u001b[0m \u001b[0;34m[\u001b[0m\u001b[0;34m]\u001b[0m\u001b[0;34m\u001b[0m\u001b[0;34m\u001b[0m\u001b[0m\n\u001b[0;32m---> 22\u001b[0;31m \u001b[0;32mfor\u001b[0m \u001b[0mimage\u001b[0m\u001b[0;34m,\u001b[0m \u001b[0mlabel\u001b[0m \u001b[0;32min\u001b[0m \u001b[0mtop_six\u001b[0m\u001b[0;34m:\u001b[0m\u001b[0;34m\u001b[0m\u001b[0;34m\u001b[0m\u001b[0m\n\u001b[0m\u001b[1;32m     23\u001b[0m   \u001b[0mimage\u001b[0m \u001b[0;34m=\u001b[0m \u001b[0mimage\u001b[0m\u001b[0;34m.\u001b[0m\u001b[0munsqueeze\u001b[0m\u001b[0;34m(\u001b[0m\u001b[0;36m0\u001b[0m\u001b[0;34m)\u001b[0m\u001b[0;34m.\u001b[0m\u001b[0munsqueeze\u001b[0m\u001b[0;34m(\u001b[0m\u001b[0;36m0\u001b[0m\u001b[0;34m)\u001b[0m\u001b[0;34m.\u001b[0m\u001b[0mto\u001b[0m\u001b[0;34m(\u001b[0m\u001b[0mdevice\u001b[0m\u001b[0;34m)\u001b[0m\u001b[0;34m\u001b[0m\u001b[0;34m\u001b[0m\u001b[0m\n\u001b[1;32m     24\u001b[0m   \u001b[0moutput\u001b[0m \u001b[0;34m=\u001b[0m \u001b[0mcnn_model\u001b[0m\u001b[0;34m(\u001b[0m\u001b[0mimage\u001b[0m\u001b[0;34m)\u001b[0m\u001b[0;34m\u001b[0m\u001b[0;34m\u001b[0m\u001b[0m\n",
            "\u001b[0;31mValueError\u001b[0m: not enough values to unpack (expected 2, got 1)"
          ]
        }
      ],
      "source": [
        "'''# Set the model to evaluation mode\n",
        "\n",
        "mlp_model.eval()\n",
        "cnn_model.eval()\n",
        "\n",
        "# Get the top six samples from the testing dataset\n",
        "\n",
        "top_six = test_data_path[:6]\n",
        "\n",
        "# Make predictions using the MLP model\n",
        "\n",
        "mlp_preds = []\n",
        "for image,label in top_six:\n",
        "  image = image.unsqueeze(0).to(device)\n",
        "  output = mlp_model(image)\n",
        "  _, predicted = torch.max(output.data, 1)\n",
        "  mlp_preds.append(predicted.item())\n",
        "\n",
        "# Make predictions using the CNN model\n",
        "\n",
        "cnn_preds = []\n",
        "for image, label in top_six:\n",
        "  image = image.unsqueeze(0).unsqueeze(0).to(device)\n",
        "  output = cnn_model(image)\n",
        "  _, predicted = torch.max(output.data, 1)\n",
        "  cnn_preds.append(predicted.item())\n",
        "\n",
        "# Print the predictions\n",
        "\n",
        "print(\"MLP model predictions:\", [mapping[pred] for pred in mlp_preds])\n",
        "print(\"CNN model predictions:\", [mapping[pred] for pred in cnn_preds])'''"
      ]
    },
    {
      "cell_type": "markdown",
      "metadata": {
        "id": "QbiWfbxVgjOJ"
      },
      "source": [
        "Step 6.3 - Plot the confusion matrix of two models – MLP and CNNs"
      ]
    },
    {
      "cell_type": "code",
      "execution_count": null,
      "metadata": {
        "colab": {
          "base_uri": "https://localhost:8080/",
          "height": 1000
        },
        "id": "U8j1nzJKgjOJ",
        "outputId": "62dee52e-4ae2-43ac-e61b-abbfb6632ef2"
      },
      "outputs": [
        {
          "output_type": "stream",
          "name": "stdout",
          "text": [
            "Accuracy: 0.7944\n",
            "Precision: 0.7993\n",
            "Recall: 0.7944\n",
            "F1-score: 0.7898\n",
            "Accuracy: 0.8879\n",
            "Precision: 0.8912\n",
            "Recall: 0.8879\n",
            "F1-score: 0.8867\n"
          ]
        },
        {
          "output_type": "error",
          "ename": "NameError",
          "evalue": "name 'mapping' is not defined",
          "traceback": [
            "\u001b[0;31m---------------------------------------------------------------------------\u001b[0m",
            "\u001b[0;31mNameError\u001b[0m                                 Traceback (most recent call last)",
            "\u001b[0;32m<ipython-input-27-d592543c7275>\u001b[0m in \u001b[0;36m<cell line: 11>\u001b[0;34m()\u001b[0m\n\u001b[1;32m      9\u001b[0m \u001b[0mplt\u001b[0m\u001b[0;34m.\u001b[0m\u001b[0mtitle\u001b[0m\u001b[0;34m(\u001b[0m\u001b[0;34m\"MLP Confusion Matrix\"\u001b[0m\u001b[0;34m)\u001b[0m\u001b[0;34m\u001b[0m\u001b[0;34m\u001b[0m\u001b[0m\n\u001b[1;32m     10\u001b[0m \u001b[0mplt\u001b[0m\u001b[0;34m.\u001b[0m\u001b[0mimshow\u001b[0m\u001b[0;34m(\u001b[0m\u001b[0mmlp_cm\u001b[0m\u001b[0;34m,\u001b[0m \u001b[0mcmap\u001b[0m\u001b[0;34m=\u001b[0m\u001b[0;34m'Blues'\u001b[0m\u001b[0;34m)\u001b[0m\u001b[0;34m\u001b[0m\u001b[0;34m\u001b[0m\u001b[0m\n\u001b[0;32m---> 11\u001b[0;31m \u001b[0mplt\u001b[0m\u001b[0;34m.\u001b[0m\u001b[0mxticks\u001b[0m\u001b[0;34m(\u001b[0m\u001b[0mnp\u001b[0m\u001b[0;34m.\u001b[0m\u001b[0marange\u001b[0m\u001b[0;34m(\u001b[0m\u001b[0mlen\u001b[0m\u001b[0;34m(\u001b[0m\u001b[0mlabel_map\u001b[0m\u001b[0;34m)\u001b[0m\u001b[0;34m)\u001b[0m\u001b[0;34m,\u001b[0m \u001b[0mmapping\u001b[0m\u001b[0;34m,\u001b[0m \u001b[0mrotation\u001b[0m\u001b[0;34m=\u001b[0m\u001b[0;36m90\u001b[0m\u001b[0;34m)\u001b[0m\u001b[0;34m\u001b[0m\u001b[0;34m\u001b[0m\u001b[0m\n\u001b[0m\u001b[1;32m     12\u001b[0m \u001b[0mplt\u001b[0m\u001b[0;34m.\u001b[0m\u001b[0myticks\u001b[0m\u001b[0;34m(\u001b[0m\u001b[0mnp\u001b[0m\u001b[0;34m.\u001b[0m\u001b[0marange\u001b[0m\u001b[0;34m(\u001b[0m\u001b[0mlen\u001b[0m\u001b[0;34m(\u001b[0m\u001b[0mlabel_map\u001b[0m\u001b[0;34m)\u001b[0m\u001b[0;34m)\u001b[0m\u001b[0;34m,\u001b[0m \u001b[0mmapping\u001b[0m\u001b[0;34m)\u001b[0m\u001b[0;34m\u001b[0m\u001b[0;34m\u001b[0m\u001b[0m\n\u001b[1;32m     13\u001b[0m \u001b[0mplt\u001b[0m\u001b[0;34m.\u001b[0m\u001b[0mcolorbar\u001b[0m\u001b[0;34m(\u001b[0m\u001b[0;34m)\u001b[0m\u001b[0;34m\u001b[0m\u001b[0;34m\u001b[0m\u001b[0m\n",
            "\u001b[0;31mNameError\u001b[0m: name 'mapping' is not defined"
          ]
        },
        {
          "output_type": "display_data",
          "data": {
            "text/plain": [
              "<Figure size 1000x800 with 1 Axes>"
            ],
            "image/png": "[encoded data removed]"
          },
          "metadata": {}
        }
      ],
      "source": [
        "# Evaluate the MLP and CNN models on the testing dataset\n",
        "\n",
        "mlp_acc, mlp_cm = evaluate_MLP(mlp_model, test_loader)\n",
        "cnn_acc, cnn_cm = evaluate_CNN(cnn_model, test_loader)\n",
        "\n",
        "# Plot the MLP confusion matrix\n",
        "\n",
        "plt.figure(figsize=(10, 8))\n",
        "plt.title(\"MLP Confusion Matrix\")\n",
        "plt.imshow(mlp_cm, cmap='Blues')\n",
        "plt.xticks(np.arange(len(label_map)), mapping, rotation=90)\n",
        "plt.yticks(np.arange(len(label_map)), mapping)\n",
        "plt.colorbar()\n",
        "plt.xlabel('Predicted Label')\n",
        "plt.ylabel('True Label')\n",
        "plt.show()\n",
        "\n",
        "# Plot the CNN confusion matrix\n",
        "\n",
        "plt.figure(figsize=(10, 8))\n",
        "plt.title(\"CNN Confusion Matrix\")\n",
        "plt.imshow(cnn_cm, cmap='Blues')\n",
        "plt.xticks(np.arange(num_classes), mapping, rotation=90)\n",
        "plt.yticks(np.arange(num_classes), mapping)\n",
        "plt.colorbar()\n",
        "plt.xlabel('Predicted Label')\n",
        "plt.ylabel('True Label')\n",
        "plt.show()"
      ]
    },
    {
      "cell_type": "markdown",
      "metadata": {
        "id": "08zG4klzgjOK"
      },
      "source": [
        "Step 6.4 - Summarize the performance of two models using accuracy, report the precision, recall and F1 score of MLP and CNNs"
      ]
    },
    {
      "cell_type": "code",
      "execution_count": null,
      "metadata": {
        "colab": {
          "base_uri": "https://localhost:8080/"
        },
        "id": "ipIIolvBgjOK",
        "outputId": "624eb2e4-e1c3-4ce4-e591-c4714872d0ac"
      },
      "outputs": [
        {
          "output_type": "stream",
          "name": "stdout",
          "text": [
            "MLP Performance:\n",
            "Accuracy: 0.7944\n",
            "Precision: 0.7993\n",
            "Recall: 0.7944\n",
            "F1-score: 0.7898\n",
            "Best MLP accuracy: 0.7944\n",
            "Best MLP loss: 0.8131\n",
            "MLP confusion matrix:\n",
            "[[224   0   0 ...   0   1   0]\n",
            " [  0 224   0 ...   0   1   1]\n",
            " [  0   0 291 ...   0   0   0]\n",
            " ...\n",
            " [  0   0   1 ...  98   2   3]\n",
            " [  0   0   0 ...   0 360   1]\n",
            " [  0   2   1 ...   0   7 320]]\n",
            "MLP Precision: 1.0000\n",
            "MLP Recall: 0.9574\n",
            "MLP F1-score: 0.9716\n",
            "CNN Performance:\n"
          ]
        },
        {
          "output_type": "stream",
          "name": "stderr",
          "text": [
            "/usr/local/lib/python3.10/dist-packages/sklearn/metrics/_classification.py:1344: UndefinedMetricWarning: Recall and F-score are ill-defined and being set to 0.0 in labels with no true samples. Use `zero_division` parameter to control this behavior.\n",
            "  _warn_prf(average, modifier, msg_start, len(result))\n"
          ]
        }
      ],
      "source": [
        "# Evaluate MLP\n",
        "print('MLP Performance:')\n",
        "mlp_model.eval()\n",
        "mlp_acc, mlp_cm = evaluate_MLP(mlp_model, test_loader)\n",
        "print('Best MLP accuracy: {:.4f}'.format(mlp_acc))\n",
        "print('Best MLP loss: {:.4f}'.format(min(mlp_losses)))\n",
        "print('MLP confusion matrix:')\n",
        "print(mlp_cm)\n",
        "mlp_precision, mlp_recall, mlp_f1_score, _ = precision_recall_fscore_support(\n",
        "    mlp_cm.argmax(axis=1), mlp_cm.argmax(axis=0), average='weighted')\n",
        "print('MLP Precision: {:.4f}'.format(mlp_precision))\n",
        "print('MLP Recall: {:.4f}'.format(mlp_recall))\n",
        "print('MLP F1-score: {:.4f}'.format(mlp_f1_score))\n",
        "\n",
        "# Evaluate CNN\n",
        "print('CNN Performance:')\n",
        "cnn_model.eval()\n",
        "cnn_acc, cnn_cm = evaluate_CNN(cnn_model, test_loader)\n",
        "print('Best CNN accuracy: {:.4f}'.format(cnn_acc))\n",
        "print('Best CNN loss: {:.4f}'.format(min(cnn_losses)))\n",
        "print('CNN confusion matrix:')\n",
        "print(cnn_cm)\n",
        "cnn_precision, cnn_recall, cnn_f1_score, _ = precision_recall_fscore_support(\n",
        "    cnn_cm.argmax(axis=1), cnn_cm.argmax(axis=0), average='weighted')\n",
        "print('CNN Precision: {:.4f}'.format(cnn_precision))\n",
        "print('CNN Recall: {:.4f}'.format(cnn_recall))\n",
        "print('CNN F1-score: {:.4f}'.format(cnn_f1_score))"
      ]
    }
  ],
  "metadata": {
    "kernelspec": {
      "display_name": "Python 3",
      "name": "python3"
    },
    "language_info": {
      "codemirror_mode": {
        "name": "ipython",
        "version": 3
      },
      "file_extension": ".py",
      "mimetype": "text/x-python",
      "name": "python",
      "nbconvert_exporter": "python",
      "pygments_lexer": "ipython3",
      "version": "3.11.3"
    },
    "orig_nbformat": 4,
    "colab": {
      "provenance": [],
      "gpuType": "T4"
    },
    "accelerator": "GPU"
  },
  "nbformat": 4,
  "nbformat_minor": 0
}